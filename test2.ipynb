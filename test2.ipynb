{
 "cells": [
  {
   "cell_type": "code",
   "execution_count": 1,
   "metadata": {},
   "outputs": [
    {
     "name": "stdout",
     "output_type": "stream",
     "text": [
      "Meeting Key: 1246\n",
      "Session Key: 9606\n",
      "Driver Number: 63\n",
      "Lap Duration: 98.26\n",
      "I2 Speed: 263\n",
      "ST Speed: 285\n"
     ]
    }
   ],
   "source": [
    "import requests\n",
    "\n",
    "url = \"https://api.openf1.org/v1/laps\"\n",
    "\n",
    "querystring = {\"session_key\": \"latest\", \"driver_number\": \"63\", \"lap_number\": \"8\"}\n",
    "\n",
    "response = requests.get(url, params=querystring)\n",
    "\n",
    "response_json = response.json()\n",
    "\n",
    "# Access the first (and only) dictionary in the response_json list\n",
    "lap_data = response_json[0]\n",
    "\n",
    "# Retrieve specific values\n",
    "meeting_key = lap_data[\"meeting_key\"]\n",
    "session_key = lap_data[\"session_key\"]\n",
    "driver_number = lap_data[\"driver_number\"]\n",
    "lap_duration = lap_data[\"lap_duration\"]\n",
    "i2_speed = lap_data[\"i2_speed\"]\n",
    "st_speed = lap_data[\"st_speed\"]\n",
    "\n",
    "# Print the retrieved values\n",
    "print(f\"Meeting Key: {meeting_key}\")\n",
    "print(f\"Session Key: {session_key}\")\n",
    "print(f\"Driver Number: {driver_number}\")\n",
    "print(f\"Lap Duration: {lap_duration}\")\n",
    "print(f\"I2 Speed: {i2_speed}\")\n",
    "print(f\"ST Speed: {st_speed}\")"
   ]
  }
 ],
 "metadata": {
  "kernelspec": {
   "display_name": "Python 3",
   "language": "python",
   "name": "python3"
  },
  "language_info": {
   "codemirror_mode": {
    "name": "ipython",
    "version": 3
   },
   "file_extension": ".py",
   "mimetype": "text/x-python",
   "name": "python",
   "nbconvert_exporter": "python",
   "pygments_lexer": "ipython3",
   "version": "3.12.3"
  }
 },
 "nbformat": 4,
 "nbformat_minor": 2
}
